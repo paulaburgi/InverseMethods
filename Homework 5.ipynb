{
 "cells": [
  {
   "cell_type": "code",
   "execution_count": 24,
   "metadata": {},
   "outputs": [],
   "source": [
    "%matplotlib inline\n",
    "import numpy as np\n",
    "import scipy as sp\n",
    "import matplotlib.pyplot as plt\n",
    "import matplotlib.image as mpimg\n",
    "from scipy import ndimage, misc\n",
    "from scipy.linalg import toeplitz\n",
    "from scipy.sparse import csr_matrix\n",
    "import matplotlib.image as mpimg\n",
    "np.set_printoptions(threshold=np.inf)\n",
    "np.set_printoptions(precision=0)\n",
    "np.set_printoptions(suppress=True)"
   ]
  },
  {
   "cell_type": "code",
   "execution_count": 25,
   "metadata": {},
   "outputs": [
    {
     "name": "stdout",
     "output_type": "stream",
     "text": [
      "35 35\n"
     ]
    },
    {
     "data": {
      "image/png": "[encoded data removed]",
      "text/plain": [
       "<Figure size 432x288 with 2 Axes>"
      ]
     },
     "metadata": {},
     "output_type": "display_data"
    }
   ],
   "source": [
    "# image \n",
    "pics   = mpimg.imread('cheese.png')\n",
    "pics   = 1-pics[:,:,1]\n",
    "pics   = pics[::15,::15]\n",
    "n,m    = pics.shape\n",
    "npts   = n*m\n",
    "ipts   = npts\n",
    "print(n,m)\n",
    "\n",
    "imgplot = plt.imshow(pics, cmap='Greys')\n",
    "plt.colorbar()\n",
    "plt.show()"
   ]
  },
  {
   "cell_type": "code",
   "execution_count": 31,
   "metadata": {
    "scrolled": true
   },
   "outputs": [
    {
     "name": "stdout",
     "output_type": "stream",
     "text": [
      "(1225, 1225)\n",
      "(1225, 1225) (1225, 1)\n",
      "(1225, 1225)\n"
     ]
    },
    {
     "data": {
      "image/png": "[encoded data removed]",
      "text/plain": [
       "<Figure size 432x288 with 2 Axes>"
      ]
     },
     "metadata": {},
     "output_type": "display_data"
    }
   ],
   "source": [
    "sig = 1.5\n",
    "wid = 3\n",
    "scale = 0.05\n",
    "\n",
    "a = np.concatenate([np.exp(-np.array(range(0,wid))**2/(2*sig**2)), np.zeros(ipts-wid)])\n",
    "g = toeplitz(a)\n",
    "g = csr_matrix(g)\n",
    "g = (1/(2*np.pi*sig**2))*np.kron(g,g)\n",
    "\n",
    "print(g.shape)\n",
    "\n",
    "\n",
    "picv   = pics.reshape((npts,1))\n",
    "picv   = csr_matrix(picv)\n",
    "#gs     = csr_matrix(g)\n",
    "gs = g\n",
    "np.random.seed(0)\n",
    "print(gs.shape, picv.shape)\n",
    "d      = gs.dot(picv) + np.random.rand(npts,1)*0.01\n",
    "\n",
    "di = d.reshape(n,m)\n",
    "print(gs.shape)\n",
    "imgplot = plt.imshow(di, cmap='Greys')\n",
    "plt.colorbar()\n",
    "plt.show()"
   ]
  },
  {
   "cell_type": "code",
   "execution_count": 15,
   "metadata": {},
   "outputs": [
    {
     "name": "stdout",
     "output_type": "stream",
     "text": [
      "(1225, 1)\n",
      "(1225, 1)\n",
      "(1225, 1)\n",
      "(1225, 1)\n"
     ]
    }
   ],
   "source": [
    "m0 = np.zeros((npts,1))\n",
    "print(m0.shape)\n",
    "m0 = csr_matrix(m0)\n",
    "s0 = d-np.dot(gs,m0)\n",
    "print(s0.shape)\n",
    "r0 = np.dot(gs.T, s0)\n",
    "print(r0.shape)\n",
    "p0 = r0\n",
    "q0 = np.dot(gs,p0)\n",
    "print(q0.shape)\n"
   ]
  },
  {
   "cell_type": "code",
   "execution_count": 16,
   "metadata": {},
   "outputs": [
    {
     "name": "stderr",
     "output_type": "stream",
     "text": [
      "IOPub data rate exceeded.\n",
      "The notebook server will temporarily stop sending output\n",
      "to the client in order to avoid crashing it.\n",
      "To change this limit, set the config variable\n",
      "`--NotebookApp.iopub_data_rate_limit`.\n",
      "\n",
      "Current values:\n",
      "NotebookApp.iopub_data_rate_limit=1000000.0 (bytes/sec)\n",
      "NotebookApp.rate_limit_window=3.0 (secs)\n",
      "\n"
     ]
    }
   ],
   "source": [
    "nints = 10\n",
    "\n",
    "for k in range(nints):\n",
    "    if k == 0:\n",
    "        rk = r0\n",
    "        qk = q0\n",
    "        mk = m0\n",
    "        pk = p0\n",
    "        sk = s0\n",
    "    else:\n",
    "        t = 1\n",
    "        \n",
    "    ak1 = np.dot(rk.T,rk)/np.dot(qk.T,qk)\n",
    "    print(ak1)\n",
    "    #mk1 = mk+np.dot(ak1,pk)\n",
    "    mk1 = mk+ak1*pk\n",
    "    #sk1 = sk-np.dot(ak1.T,qk)\n",
    "    sk1 = sk-ak1*qk\n",
    "    rk1 = np.dot(gs.T,sk1)\n",
    "    bk1 = np.dot(rk1.T,rk1)/np.dot(rk.T,rk)\n",
    "    pk1 = rk1+np.dot(bk1.T,pk)\n",
    "    qk1 = np.dot(gs,pk1)\n",
    "    \n",
    "    rk = rk1\n",
    "    qk = qk1\n",
    "    mk = mk1\n",
    "    pk = pk1\n",
    "    qk = qk1\n",
    "    sk = sk1\n",
    "    \n",
    "    \n",
    "    \n",
    "    "
   ]
  },
  {
   "cell_type": "code",
   "execution_count": null,
   "metadata": {},
   "outputs": [],
   "source": []
  }
 ],
 "metadata": {
  "kernelspec": {
   "display_name": "Python 3",
   "language": "python",
   "name": "python3"
  },
  "language_info": {
   "codemirror_mode": {
    "name": "ipython",
    "version": 3
   },
   "file_extension": ".py",
   "mimetype": "text/x-python",
   "name": "python",
   "nbconvert_exporter": "python",
   "pygments_lexer": "ipython3",
   "version": "3.6.5"
  }
 },
 "nbformat": 4,
 "nbformat_minor": 2
}
