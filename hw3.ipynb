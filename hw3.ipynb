{
 "cells": [
  {
   "cell_type": "code",
   "execution_count": 1,
   "metadata": {},
   "outputs": [],
   "source": [
    "%matplotlib inline"
   ]
  },
  {
   "cell_type": "code",
   "execution_count": 2,
   "metadata": {},
   "outputs": [],
   "source": [
    "import numpy as np\n",
    "import matplotlib.pyplot as plt\n",
    "import matplotlib.image as mpimg\n",
    "from scipy import ndimage, misc\n",
    "from scipy.linalg import toeplitz\n",
    "np.set_printoptions(threshold=np.inf)\n",
    "np.set_printoptions(precision=3)\n",
    "np.set_printoptions(suppress=True)"
   ]
  },
  {
   "cell_type": "code",
   "execution_count": 3,
   "metadata": {},
   "outputs": [],
   "source": [
    "G  = np.zeros((10,16))\n",
    "s2 = np.sqrt(2)\n",
    "#s2 = 2\n",
    "for i in range(4):\n",
    "    i1 = i+1\n",
    "    G[i, i*4:4*i1] = 1\n",
    "    G[i+4, i:16:4] = 1\n",
    "G[8,0] = s2\n",
    "G[9, 0:16:5] = s2 \n",
    "#G = G.T\n",
    "\n",
    "#print(G)"
   ]
  },
  {
   "cell_type": "code",
   "execution_count": 4,
   "metadata": {},
   "outputs": [
    {
     "name": "stdout",
     "output_type": "stream",
     "text": [
      "1.068072935695153e+16\n",
      "4.62515039996751\n"
     ]
    }
   ],
   "source": [
    "[u, s, v] = np.linalg.svd(G)\n",
    "v=v.T\n",
    "n = u.shape[0]\n",
    "m = v.shape[0]\n",
    "p = np.linalg.matrix_rank(G)\n",
    "up = u[:, 0:p]\n",
    "vp = v[:, 0:p]\n",
    "sp = s[0:p]\n",
    "\n",
    "sm = np.eye(p,p)\n",
    "for i in range(p):\n",
    "    sm[i,i] = sp[i]\n",
    "smi = np.linalg.inv(sm)\n",
    "\n",
    "\n",
    "Cm = s[0]/s[-1]\n",
    "print(Cm)\n",
    "Cmp = sp[0]/sp[-1]\n",
    "print(Cmp)\n",
    "\n",
    "\n",
    "#print(v)"
   ]
  },
  {
   "cell_type": "code",
   "execution_count": 5,
   "metadata": {},
   "outputs": [
    {
     "name": "stdout",
     "output_type": "stream",
     "text": [
      "Row Space\n"
     ]
    },
    {
     "data": {
      "image/png": "[encoded data removed]",
      "text/plain": [
       "<Figure size 432x288 with 9 Axes>"
      ]
     },
     "metadata": {},
     "output_type": "display_data"
    },
    {
     "name": "stdout",
     "output_type": "stream",
     "text": [
      "Null Space\n"
     ]
    },
    {
     "data": {
      "image/png": "[encoded data removed]",
      "text/plain": [
       "<Figure size 432x288 with 7 Axes>"
      ]
     },
     "metadata": {},
     "output_type": "display_data"
    }
   ],
   "source": [
    "# plot row and null spaces\n",
    "rsmax = np.max(v[:,0:p])\n",
    "rsmin = np.min(v[:,0:p])\n",
    "nsmax = np.max(v[:,p:m])\n",
    "nsmin = np.min(v[:,p:m])\n",
    "\n",
    "print('Row Space')\n",
    "for i in range(p):\n",
    "    idx = 250+1+i\n",
    "    ax=plt.subplot(idx)\n",
    "    x = np.reshape(v[:,i], (4,4))\n",
    "    plt.pcolor(np.flipud(x), cmap='seismic',vmin=-0.8, vmax=0.8)\n",
    "    plt.axis('off')\n",
    "    plt.axis('equal')\n",
    "plt.show()\n",
    "\n",
    "print('Null Space')\n",
    "for i in range(m-p):\n",
    "    idx = 240+1+i\n",
    "    ax=plt.subplot(idx)\n",
    "    x = np.reshape(v[:,p+i], (4,4))\n",
    "    plt.pcolor(np.flipud(x), cmap='seismic',vmin=-0.8, vmax=0.8)\n",
    "    plt.axis('off')\n",
    "    plt.axis('equal')\n",
    "\n",
    "plt.show()\n"
   ]
  },
  {
   "cell_type": "code",
   "execution_count": 6,
   "metadata": {},
   "outputs": [
    {
     "name": "stdout",
     "output_type": "stream",
     "text": [
      "(10, 9)\n"
     ]
    },
    {
     "data": {
      "image/png": "[encoded data removed]",
      "text/plain": [
       "<Figure size 432x288 with 2 Axes>"
      ]
     },
     "metadata": {},
     "output_type": "display_data"
    }
   ],
   "source": [
    "# plot data and model resolution\n",
    "\n",
    "Rm = np.dot(vp,vp.T)\n",
    "Rd = np.dot(up,up.T)\n",
    "print(up.shape)\n",
    "\n",
    "ax=plt.subplot(121)\n",
    "plt.subplots_adjust(hspace=0.4, wspace=0.4)\n",
    "plt.tick_params(axis=\"True\", which=\"both\", bottom=\"True\", top=\"False\", \n",
    "               labelbottom=\"True\", left=\"True\", right=\"False\", labelleft=\"True\")\n",
    "plt.pcolor(np.flipud(Rm), cmap='Greys', vmin=0, vmax=1)\n",
    "plt.axis('off')\n",
    "plt.axis('equal')\n",
    "plt.title('Rm')\n",
    "\n",
    "ax=plt.subplot(122)\n",
    "plt.tick_params(axis=\"True\", which=\"both\", bottom=\"True\", top=\"False\", \n",
    "               labelbottom=\"True\", left=\"True\", right=\"False\", labelleft=\"True\")\n",
    "plt.pcolor(np.flipud(Rd), cmap='Greys', vmin=0, vmax=1)\n",
    "plt.axis('off')\n",
    "plt.axis('equal')\n",
    "plt.title('Rd')\n",
    "plt.show()\n",
    "\n",
    "\n",
    "\n",
    "\n",
    "\n",
    "\n",
    "\n",
    "\n"
   ]
  },
  {
   "cell_type": "code",
   "execution_count": 14,
   "metadata": {},
   "outputs": [
    {
     "data": {
      "image/png": "[encoded data removed]",
      "text/plain": [
       "<Figure size 432x288 with 4 Axes>"
      ]
     },
     "metadata": {},
     "output_type": "display_data"
    }
   ],
   "source": [
    "# spike test\n",
    "mspike      = np.zeros((m,1))\n",
    "mspike[np.array([5, 6, 9,10])] = 1\n",
    "dspike      = np.dot(G,mspike)\n",
    "Gt          = np.dot(np.dot(vp,smi), up.T)\n",
    "mest1       = np.dot(Gt, dspike)\n",
    "mspike_plot = np.reshape(mspike, (4,4))\n",
    "mest1_plot  = np.reshape(mest1, (4,4))\n",
    "\n",
    "# checkerboard test\n",
    "mcb          = np.zeros((m,1))\n",
    "mcb[np.array([0, 2, 5, 7, 8, 10, 13, 15])] = 1\n",
    "dcb          = np.dot(G,mcb)\n",
    "mest2        = np.dot(Gt, dcb)\n",
    "mcb_plot     = np.reshape(mcb, (4,4))\n",
    "mest2_plot   = np.reshape(mest2, (4,4))\n",
    "\n",
    "ax=plt.subplot(221)\n",
    "plt.subplots_adjust(hspace=0.4, wspace=0.4)\n",
    "plt.pcolor(np.flipud(mspike_plot), cmap='Greys', vmin=0, vmax=1)\n",
    "plt.axis('off')\n",
    "plt.axis('equal')\n",
    "plt.title('m_spike')\n",
    "\n",
    "ax=plt.subplot(222)\n",
    "plt.pcolor(np.flipud(mest1_plot), cmap='Greys', vmin=0, vmax=1)\n",
    "plt.axis('off')\n",
    "plt.axis('equal')\n",
    "plt.title('mest_spike')\n",
    "\n",
    "ax=plt.subplot(223)\n",
    "plt.pcolor(np.flipud(mcb_plot), cmap='Greys', vmin=0, vmax=1)\n",
    "plt.axis('off')\n",
    "plt.axis('equal')\n",
    "plt.title('m_checkerboard')\n",
    "\n",
    "ax=plt.subplot(224)\n",
    "plt.pcolor(np.flipud(mest2_plot), cmap='Greys', vmin=0, vmax=1)\n",
    "plt.axis('off')\n",
    "plt.axis('equal')\n",
    "plt.title('mest_checkerboard')\n",
    "\n",
    "plt.show()\n"
   ]
  },
  {
   "cell_type": "code",
   "execution_count": null,
   "metadata": {},
   "outputs": [],
   "source": []
  },
  {
   "cell_type": "code",
   "execution_count": 25,
   "metadata": {},
   "outputs": [],
   "source": [
    "# Problem 3\n",
    "# Inputs\n",
    "n     = 100\n",
    "m     = 400\n",
    "depth = 40.0\n",
    "\n",
    "dm = depth/float(m)\n",
    "dn = depth/float(n)\n",
    "depths = np.linspace(0.0,depth,m) "
   ]
  },
  {
   "cell_type": "code",
   "execution_count": 26,
   "metadata": {},
   "outputs": [],
   "source": [
    "# Build G\n",
    "g  = np.zeros((n,m))\n",
    "for i in range(n):\n",
    "    for j in range(m):\n",
    "        if(i*dn>j*dm):\n",
    "            g[i,j]=dm\n",
    "        elif(i*dn>=(j-1)*dm):\n",
    "            g[i,j]=i*dn-(j-1)*dm"
   ]
  },
  {
   "cell_type": "code",
   "execution_count": 63,
   "metadata": {},
   "outputs": [],
   "source": [
    "# Input model\n",
    "mtrue = np.zeros((m))\n",
    "for j in range(m):\n",
    "    if(j>=(3*m)/8 and j<(5*m)/8):\n",
    "        mtrue[j]=2.0\n",
    "    else:\n",
    "        mtrue[j]=2.0+3.0*float(j)/float(m)\n",
    "\n",
    "# Input noisy data \n",
    "d=np.zeros((n))\n",
    "np.random.seed(0)\n",
    "d=np.dot(g,mtrue)+np.random.normal(0.0,0.1,n)"
   ]
  },
  {
   "cell_type": "code",
   "execution_count": 89,
   "metadata": {},
   "outputs": [
    {
     "name": "stdout",
     "output_type": "stream",
     "text": [
      "(100, 100) (100, 100) (400, 100) (400, 400)\n"
     ]
    },
    {
     "data": {
      "image/png": "[encoded data removed]",
      "text/plain": [
       "<Figure size 432x288 with 1 Axes>"
      ]
     },
     "metadata": {},
     "output_type": "display_data"
    }
   ],
   "source": [
    "# SVD\n",
    "[u, s, v] = np.linalg.svd(g)\n",
    "v=v.T\n",
    "n = u.shape[0]\n",
    "m = v.shape[0]\n",
    "p = np.linalg.matrix_rank(g)\n",
    "up = u[:, 0:p]\n",
    "vp = v[:, 0:p]\n",
    "sp = s[0:p]\n",
    "\n",
    "\n",
    "sm = np.eye(p,p)\n",
    "for i in range(p):\n",
    "    sm[i,i] = sp[i]\n",
    "smi = np.linalg.inv(sm)\n",
    "\n",
    "ax=plt.subplot(111)\n",
    "xa = np.arange(s.shape[0])\n",
    "plt.plot(xa, s, 'ok', xa, s, 'k')\n",
    "ax.set_xlabel(\"singular value index\")\n",
    "ax.set_ylabel(\"singular value\")\n",
    "plt.title('Singular Values')\n",
    "plt.show()\n"
   ]
  },
  {
   "cell_type": "code",
   "execution_count": 83,
   "metadata": {},
   "outputs": [],
   "source": [
    "# SVD solutions\n",
    "# p=rank\n",
    "d      = np.dot(g,mtrue)\n",
    "Gt1    = np.dot(np.dot(vp,smi), up.T)\n",
    "mest1  = np.dot(Gt1, d)\n",
    "\n",
    "#p=1/2 rank\n",
    "p2   = int(p/2)\n",
    "up2  = u[:, 0:p2]\n",
    "vp2  = v[:, 0:p2]\n",
    "sp2  = s[0:p2]\n",
    "sm2 = np.eye(p2,p2)\n",
    "for i in range(p2):\n",
    "    sm2[i,i] = sp2[i]\n",
    "smi2 = np.linalg.inv(sm2)\n",
    "\n",
    "Gt2    = np.dot(np.dot(vp2,smi2), up2.T)\n",
    "mest2  = np.dot(Gt2, d)\n",
    "\n",
    "#p=1/5 rank\n",
    "p3   = int(p/5)\n",
    "up3  = u[:, 0:p3]\n",
    "vp3  = v[:, 0:p3]\n",
    "sp3  = s[0:p3]\n",
    "sm3 = np.eye(p3,p3)\n",
    "for i in range(p3):\n",
    "    sm3[i,i] = sp3[i]\n",
    "smi3 = np.linalg.inv(sm3)\n",
    "\n",
    "Gt3    = np.dot(np.dot(vp3,smi3), up3.T)\n",
    "mest3  = np.dot(Gt3, d)\n",
    "\n",
    "#p=1\n",
    "p4   = 1\n",
    "up4  = u[:, 0:p4]\n",
    "vp4  = v[:, 0:p4]\n",
    "sp4  = s[0:p4]\n",
    "sm4 = np.eye(p4,p4)\n",
    "for i in range(p4):\n",
    "    sm4[i,i] = sp4[i]\n",
    "smi4 = np.linalg.inv(sm4)\n",
    "\n",
    "Gt4    = np.dot(np.dot(vp4,smi4), up4.T)\n",
    "mest4  = np.dot(Gt4, d)\n",
    "\n",
    "#p=2\n",
    "p5   = 4\n",
    "up5  = u[:, 0:p5]\n",
    "vp5  = v[:, 0:p5]\n",
    "sp5  = s[0:p5]\n",
    "sm5 = np.eye(p5,p5)\n",
    "for i in range(p5):\n",
    "    sm5[i,i] = sp5[i]\n",
    "smi5 = np.linalg.inv(sm5)\n",
    "\n",
    "Gt5    = np.dot(np.dot(vp5,smi5), up5.T)\n",
    "mest5  = np.dot(Gt5, d)\n",
    "\n"
   ]
  },
  {
   "cell_type": "code",
   "execution_count": 87,
   "metadata": {},
   "outputs": [
    {
     "data": {
      "image/png": "[encoded data removed]",
      "text/plain": [
       "<Figure size 432x288 with 6 Axes>"
      ]
     },
     "metadata": {},
     "output_type": "display_data"
    }
   ],
   "source": [
    "# plot\n",
    "ax=plt.subplot(231)\n",
    "plt.subplots_adjust(hspace=0.8, wspace=0.5)\n",
    "plt.plot(depths, mtrue)\n",
    "plt.ylim(0,5.5)\n",
    "ax.set_xlabel(\"depth (m)\")\n",
    "ax.set_ylabel(\"slowness (s/km)\")\n",
    "plt.title('M_true')\n",
    "\n",
    "ax=plt.subplot(232)\n",
    "plt.plot(depths, mest1)\n",
    "plt.ylim(0,5.5)\n",
    "ax.set_xlabel(\"depth (m)\")\n",
    "ax.set_ylabel(\"slowness (s/km)\")\n",
    "plt.title('M_SVD, p=rank')\n",
    "\n",
    "ax=plt.subplot(233)\n",
    "plt.plot(depths,mest2)\n",
    "plt.ylim(0,5.5)\n",
    "ax.set_xlabel(\"depth (m)\")\n",
    "ax.set_ylabel(\"slowness (s/km)\")\n",
    "plt.title('M_SVD, p=1/2 rank')\n",
    "\n",
    "\n",
    "ax=plt.subplot(234)\n",
    "plt.plot(depths,mest3)\n",
    "plt.ylim(0,5.5)\n",
    "ax.set_xlabel(\"depth (m)\")\n",
    "ax.set_ylabel(\"slowness (s/km)\")\n",
    "plt.title('M_SVD, p=1/5 rank')\n",
    "\n",
    "\n",
    "ax=plt.subplot(235)\n",
    "plt.plot(depths,mest4)\n",
    "plt.ylim(0,5.5)\n",
    "ax.set_xlabel(\"depth (m)\")\n",
    "ax.set_ylabel(\"slowness (s/km)\")\n",
    "plt.title('M_SVD, p=1')\n",
    "\n",
    "\n",
    "ax=plt.subplot(236)\n",
    "plt.plot(depths,mest5)\n",
    "plt.ylim(0,5.5)\n",
    "ax.set_xlabel(\"depth (m)\")\n",
    "ax.set_ylabel(\"slowness (s/km)\")\n",
    "plt.title('M_SVD, p=2')\n",
    "\n",
    "plt.show()"
   ]
  },
  {
   "cell_type": "code",
   "execution_count": null,
   "metadata": {},
   "outputs": [],
   "source": []
  }
 ],
 "metadata": {
  "kernelspec": {
   "display_name": "Python 3",
   "language": "python",
   "name": "python3"
  },
  "language_info": {
   "codemirror_mode": {
    "name": "ipython",
    "version": 3
   },
   "file_extension": ".py",
   "mimetype": "text/x-python",
   "name": "python",
   "nbconvert_exporter": "python",
   "pygments_lexer": "ipython3",
   "version": "3.6.5"
  }
 },
 "nbformat": 4,
 "nbformat_minor": 2
}
