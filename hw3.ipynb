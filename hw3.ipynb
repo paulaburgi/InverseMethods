{
 "cells": [
  {
   "cell_type": "code",
   "execution_count": 1,
   "metadata": {},
   "outputs": [],
   "source": [
    "%matplotlib inline"
   ]
  },
  {
   "cell_type": "code",
   "execution_count": 2,
   "metadata": {},
   "outputs": [],
   "source": [
    "import numpy as np\n",
    "import matplotlib.pyplot as plt\n",
    "import matplotlib.image as mpimg\n",
    "from scipy import ndimage, misc\n",
    "from scipy.linalg import toeplitz\n",
    "np.set_printoptions(threshold=np.inf)"
   ]
  },
  {
   "cell_type": "code",
   "execution_count": 92,
   "metadata": {},
   "outputs": [],
   "source": [
    "G  = np.zeros((10,16))\n",
    "s2 = np.sqrt(2)\n",
    "#s2 = 2\n",
    "for i in range(4):\n",
    "    i1 = i+1\n",
    "    G[i, i*4:4*i1] = 1\n",
    "    G[i+4, i:16:4] = 1\n",
    "G[8,0] = s2\n",
    "G[9, 0:16:5] = s2 \n",
    "\n",
    "#print(G)"
   ]
  },
  {
   "cell_type": "code",
   "execution_count": 115,
   "metadata": {},
   "outputs": [
    {
     "name": "stdout",
     "output_type": "stream",
     "text": [
      "6651738713120766.0\n",
      "4.625150399967511\n"
     ]
    }
   ],
   "source": [
    "[u, s, v] = np.linalg.svd(G)\n",
    "#print(s)\n",
    "\n",
    "Cm = s[0]/s[-1]\n",
    "print(Cm)\n",
    "\n",
    "p = 9\n",
    "u = u[0:p, 0:p]\n",
    "v = v[0:p, 0:p]\n",
    "s = s[0:p]\n",
    "\n",
    "Cm = s[0]/s[-1]\n",
    "print(Cm)"
   ]
  },
  {
   "cell_type": "code",
   "execution_count": 108,
   "metadata": {},
   "outputs": [],
   "source": []
  },
  {
   "cell_type": "code",
   "execution_count": null,
   "metadata": {},
   "outputs": [],
   "source": []
  }
 ],
 "metadata": {
  "kernelspec": {
   "display_name": "Python 3",
   "language": "python",
   "name": "python3"
  },
  "language_info": {
   "codemirror_mode": {
    "name": "ipython",
    "version": 3
   },
   "file_extension": ".py",
   "mimetype": "text/x-python",
   "name": "python",
   "nbconvert_exporter": "python",
   "pygments_lexer": "ipython3",
   "version": "3.6.5"
  }
 },
 "nbformat": 4,
 "nbformat_minor": 2
}
