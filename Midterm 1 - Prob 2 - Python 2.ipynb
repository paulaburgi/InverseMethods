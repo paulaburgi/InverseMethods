{
 "cells": [
  {
   "cell_type": "code",
   "execution_count": 1,
   "metadata": {},
   "outputs": [],
   "source": [
    "%matplotlib inline"
   ]
  },
  {
   "cell_type": "code",
   "execution_count": 2,
   "metadata": {},
   "outputs": [],
   "source": [
    "import numpy as np\n",
    "import matplotlib.pyplot as plt\n",
    "import matplotlib.image as mpimg\n",
    "from scipy import ndimage, misc\n",
    "from scipy.linalg import toeplitz\n",
    "import gsvd_python3\n",
    "np.set_printoptions(threshold=np.inf)\n",
    "np.set_printoptions(precision=3)\n",
    "np.set_printoptions(suppress=True)"
   ]
  },
  {
   "cell_type": "code",
   "execution_count": 3,
   "metadata": {},
   "outputs": [],
   "source": [
    "# inputs\n",
    "n     = 96\n",
    "m     = 96\n",
    "depth = 40.0\n",
    "\n",
    "dm = depth/float(m)\n",
    "dn = depth/float(n)\n",
    "depths = np.linspace(0.0,depth,m) "
   ]
  },
  {
   "cell_type": "code",
   "execution_count": 4,
   "metadata": {},
   "outputs": [],
   "source": [
    "# Build G\n",
    "G  = np.zeros((n,m))\n",
    "for i in range(n):\n",
    "    for j in range(m):\n",
    "        if(i*dn>j*dm):\n",
    "            G[i,j]=dm\n",
    "        elif(i*dn>=(j-1)*dm):\n",
    "            G[i,j]=i*dn-(j-1)*dm\n"
   ]
  },
  {
   "cell_type": "code",
   "execution_count": 6,
   "metadata": {},
   "outputs": [],
   "source": [
    "# Input model\n",
    "mtrue = np.zeros((m))\n",
    "for j in range(m):\n",
    "    if(j>=(3*m)/8 and j<(5*m)/8):\n",
    "        mtrue[j]=2.0\n",
    "    else:\n",
    "        mtrue[j]=2.0+3.0*float(j)/float(m)\n",
    "\n",
    "# Input noisy data \n",
    "d=np.zeros((n))\n",
    "np.random.seed(0)\n",
    "d=np.dot(G,mtrue)+np.random.normal(0.0,0.1,n)"
   ]
  },
  {
   "cell_type": "code",
   "execution_count": 7,
   "metadata": {},
   "outputs": [],
   "source": [
    "Wm   = np.diff(np.eye(m),2,0)   # make 2nd order \n",
    "Wm   = np.vstack([np.zeros(m), Wm, np.zeros(m)])\n",
    "Wm[0,0]   = -2 \n",
    "Wm[0,1]   = 1 \n",
    "Wm[-1,-1] = -2\n",
    "Wm[-1,-2] = 1\n"
   ]
  },
  {
   "cell_type": "code",
   "execution_count": 14,
   "metadata": {},
   "outputs": [
    {
     "name": "stdout",
     "output_type": "stream",
     "text": [
      "All done gsvd!\n"
     ]
    }
   ],
   "source": [
    "# SVD\n",
    "U,V,X,C,S = gsvd_python3.gsvd(G,Wm)\n",
    "[u, s, v] = np.linalg.svd(G)"
   ]
  },
  {
   "cell_type": "code",
   "execution_count": 16,
   "metadata": {},
   "outputs": [
    {
     "name": "stdout",
     "output_type": "stream",
     "text": [
      "[ 25.598   8.533   5.121   3.659   2.847   2.33    1.973   1.711   1.511\n",
      "   1.353   1.225   1.119   1.031   0.956   0.891   0.835   0.785   0.741\n",
      "   0.702   0.667   0.636   0.608   0.582   0.558   0.537   0.517   0.498\n",
      "   0.481   0.466   0.451   0.437   0.425   0.413   0.402   0.391   0.381\n",
      "   0.372   0.363   0.355   0.347   0.34    0.333   0.327   0.32    0.314\n",
      "   0.309   0.303   0.298   0.293   0.289   0.284   0.28    0.276   0.272\n",
      "   0.269   0.265   0.262   0.259   0.256   0.253   0.25    0.247   0.245\n",
      "   0.242   0.24    0.238   0.236   0.234   0.232   0.23    0.228   0.227\n",
      "   0.225   0.224   0.222   0.221   0.22    0.219   0.218   0.217   0.216\n",
      "   0.215   0.214   0.213   0.212   0.212   0.211   0.211   0.21    0.21\n",
      "   0.209   0.209   0.209   0.209   0.208   0.208]\n"
     ]
    }
   ],
   "source": [
    "#print(np.diagonal(C)/np.diagonal(S))\n",
    "print(s)"
   ]
  },
  {
   "cell_type": "code",
   "execution_count": null,
   "metadata": {},
   "outputs": [],
   "source": []
  },
  {
   "cell_type": "code",
   "execution_count": null,
   "metadata": {},
   "outputs": [],
   "source": []
  },
  {
   "cell_type": "code",
   "execution_count": null,
   "metadata": {},
   "outputs": [],
   "source": []
  }
 ],
 "metadata": {
  "kernelspec": {
   "display_name": "Python 2",
   "language": "python",
   "name": "python2"
  },
  "language_info": {
   "codemirror_mode": {
    "name": "ipython",
    "version": 2
   },
   "file_extension": ".py",
   "mimetype": "text/x-python",
   "name": "python",
   "nbconvert_exporter": "python",
   "pygments_lexer": "ipython2",
   "version": "2.7.15rc1"
  }
 },
 "nbformat": 4,
 "nbformat_minor": 2
}
