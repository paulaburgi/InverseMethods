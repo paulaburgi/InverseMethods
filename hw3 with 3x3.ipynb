{
 "cells": [
  {
   "cell_type": "code",
   "execution_count": 1,
   "metadata": {},
   "outputs": [],
   "source": [
    "%matplotlib inline"
   ]
  },
  {
   "cell_type": "code",
   "execution_count": 35,
   "metadata": {},
   "outputs": [],
   "source": [
    "import numpy as np\n",
    "import matplotlib.pyplot as plt\n",
    "import matplotlib.image as mpimg\n",
    "from scipy import ndimage, misc\n",
    "from scipy.linalg import toeplitz\n",
    "np.set_printoptions(threshold=np.inf)\n",
    "np.set_printoptions(precision=3)\n",
    "np.set_printoptions(suppress=True)"
   ]
  },
  {
   "cell_type": "code",
   "execution_count": 36,
   "metadata": {},
   "outputs": [
    {
     "name": "stdout",
     "output_type": "stream",
     "text": [
      "[[1.    0.    0.    1.    0.    0.    1.    0.    0.   ]\n",
      " [0.    1.    0.    0.    1.    0.    0.    1.    0.   ]\n",
      " [0.    0.    1.    0.    0.    1.    0.    0.    1.   ]\n",
      " [1.    1.    1.    0.    0.    0.    0.    0.    0.   ]\n",
      " [0.    0.    0.    1.    1.    1.    0.    0.    0.   ]\n",
      " [0.    0.    0.    0.    0.    0.    1.    1.    1.   ]\n",
      " [1.414 0.    0.    0.    1.414 0.    0.    0.    1.414]\n",
      " [0.    0.    0.    0.    0.    0.    0.    0.    1.414]]\n"
     ]
    }
   ],
   "source": [
    "G  = np.zeros((8,9))\n",
    "s2 = np.sqrt(2)\n",
    "#s2 = 2\n",
    "for i in range(3):\n",
    "    i1 = i+1\n",
    "    G[i+3, i*3:3*i1] = 1\n",
    "    G[i, i:9:3] = 1\n",
    "G[7,8] = s2\n",
    "G[6, 0:9:4] = s2 \n",
    "\n",
    "print(G)"
   ]
  },
  {
   "cell_type": "code",
   "execution_count": 39,
   "metadata": {},
   "outputs": [
    {
     "name": "stdout",
     "output_type": "stream",
     "text": [
      "[[ 0.467  0.354  0.014  0.378  0.436  0.331  0.218 -0.367  0.18 ]\n",
      " [ 0.158  0.354 -0.278 -0.378  0.337 -0.247 -0.537 -0.18  -0.367]\n",
      " [ 0.176 -0.     0.306 -0.189  0.536 -0.403  0.237  0.546  0.187]\n",
      " [ 0.158  0.354  0.278  0.378 -0.337 -0.247 -0.537  0.18   0.367]\n",
      " [ 0.467  0.354 -0.014 -0.378 -0.436  0.331  0.218  0.367 -0.18 ]\n",
      " [ 0.176 -0.     0.57  -0.189 -0.237 -0.403  0.237 -0.546 -0.187]\n",
      " [ 0.176  0.    -0.292  0.567 -0.1   -0.403  0.237  0.187 -0.546]\n",
      " [ 0.176  0.    -0.584 -0.189 -0.199 -0.403  0.237 -0.187  0.546]\n",
      " [ 0.625 -0.707 -0.     0.    -0.     0.084 -0.32   0.     0.   ]]\n"
     ]
    }
   ],
   "source": [
    "[u, s, v] = np.linalg.svd(G)\n",
    "v = v.T\n",
    "n = u.shape[0]\n",
    "m = v.shape[0]\n",
    "p = np.linalg.matrix_rank(G)\n",
    "up = u[:, 0:p]\n",
    "vp = v[:, 0:p]\n",
    "sp = s[0:p]\n",
    "\n",
    "sm = np.eye(p,p)\n",
    "for i in range(p):\n",
    "    sm[i,i] = sp[i]\n",
    "smi = np.linalg.inv(sm)\n",
    "\n",
    "\n",
    "Cm = s[0]/s[-1]\n",
    "#print(Cm)\n",
    "Cmp = sp[0]/sp[-1]\n",
    "#print(Cmp)\n",
    "\n",
    "print(v)\n",
    "#print(u[:,p:m].T)\n"
   ]
  },
  {
   "cell_type": "code",
   "execution_count": 40,
   "metadata": {},
   "outputs": [
    {
     "name": "stdout",
     "output_type": "stream",
     "text": [
      "Row Space\n"
     ]
    },
    {
     "data": {
      "image/png": "[encoded data removed]",
      "text/plain": [
       "<Figure size 432x288 with 7 Axes>"
      ]
     },
     "metadata": {},
     "output_type": "display_data"
    },
    {
     "name": "stdout",
     "output_type": "stream",
     "text": [
      "Null Space\n",
      "[-0.367 -0.18   0.546  0.18   0.367 -0.546  0.187 -0.187  0.   ]\n",
      "[ 0.18  -0.367  0.187  0.367 -0.18  -0.187 -0.546  0.546  0.   ]\n"
     ]
    },
    {
     "data": {
      "image/png": "[encoded data removed]",
      "text/plain": [
       "<Figure size 432x288 with 2 Axes>"
      ]
     },
     "metadata": {},
     "output_type": "display_data"
    }
   ],
   "source": [
    "# plot row and null spaces\n",
    "rsmax = np.max(v[:,0:p])\n",
    "rsmin = np.min(v[:,0:p])\n",
    "nsmax = np.max(v[:,p:m])\n",
    "nsmin = np.min(v[:,p:m])\n",
    "\n",
    "print('Row Space')\n",
    "for i in range(p):\n",
    "    idx = 250+1+i\n",
    "    ax=plt.subplot(idx)\n",
    "    x = np.reshape(v[:,i], (3,3))\n",
    "    plt.pcolor(np.flipud(x), cmap='seismic',vmin=-0.8, vmax=0.8)\n",
    "    plt.axis('off')\n",
    "    plt.axis('equal')\n",
    "plt.show()\n",
    "\n",
    "print('Null Space')\n",
    "for i in range(m-p):\n",
    "    idx = 240+1+i\n",
    "    ax=plt.subplot(idx)\n",
    "    x = np.reshape(v[:,p+i], (3,3))\n",
    "    print(v[:,p+i])\n",
    "    plt.pcolor(np.flipud(x), cmap='seismic',vmin=-0.8, vmax=0.8)\n",
    "    plt.axis('off')\n",
    "    plt.axis('equal')\n",
    "\n",
    "plt.show()\n"
   ]
  },
  {
   "cell_type": "code",
   "execution_count": 207,
   "metadata": {},
   "outputs": [
    {
     "name": "stdout",
     "output_type": "stream",
     "text": [
      "(10, 9)\n"
     ]
    },
    {
     "data": {
      "image/png": "[encoded data removed]",
      "text/plain": [
       "<Figure size 432x288 with 2 Axes>"
      ]
     },
     "metadata": {},
     "output_type": "display_data"
    }
   ],
   "source": [
    "# plot data and model resolution\n",
    "\n",
    "Rm = np.dot(vp,vp.T)\n",
    "Rd = np.dot(up,up.T)\n",
    "print(up.shape)\n",
    "\n",
    "ax=plt.subplot(121)\n",
    "plt.subplots_adjust(hspace=0.4, wspace=0.4)\n",
    "plt.tick_params(axis=\"True\", which=\"both\", bottom=\"True\", top=\"False\", \n",
    "               labelbottom=\"True\", left=\"True\", right=\"False\", labelleft=\"True\")\n",
    "plt.pcolor(np.flipud(Rm), cmap='Greys', vmin=0, vmax=1)\n",
    "plt.axis('off')\n",
    "plt.axis('equal')\n",
    "plt.title('Rm')\n",
    "\n",
    "ax=plt.subplot(122)\n",
    "plt.tick_params(axis=\"True\", which=\"both\", bottom=\"True\", top=\"False\", \n",
    "               labelbottom=\"True\", left=\"True\", right=\"False\", labelleft=\"True\")\n",
    "plt.pcolor(np.flipud(Rd), cmap='Greys', vmin=0, vmax=1)\n",
    "plt.axis('off')\n",
    "plt.axis('equal')\n",
    "plt.title('Rd')\n",
    "plt.show()\n",
    "\n",
    "\n",
    "\n",
    "\n",
    "\n",
    "\n",
    "\n",
    "\n"
   ]
  },
  {
   "cell_type": "code",
   "execution_count": 211,
   "metadata": {},
   "outputs": [
    {
     "name": "stdout",
     "output_type": "stream",
     "text": [
      "[[1.        ]\n",
      " [0.        ]\n",
      " [0.        ]\n",
      " [0.        ]\n",
      " [1.        ]\n",
      " [0.        ]\n",
      " [0.        ]\n",
      " [0.        ]\n",
      " [1.41421356]\n",
      " [1.41421356]]\n"
     ]
    },
    {
     "data": {
      "image/png": "[encoded data removed]",
      "text/plain": [
       "<Figure size 432x288 with 2 Axes>"
      ]
     },
     "metadata": {},
     "output_type": "display_data"
    }
   ],
   "source": [
    "mspike = np.zeros((m,1))\n",
    "#mspike[np.array([5, 6, 9,10])] = 1\n",
    "mspike[np.array([0])] = 1\n",
    "dspike = np.dot(G,mspike)\n",
    "Gt     = np.dot(np.dot(vp,smi), up.T)\n",
    "mest   = np.dot(Gt, dspike)\n",
    "print(dspike)\n",
    "\n",
    "mspike = np.reshape(mspike, (4,4))\n",
    "mest   = np.reshape(mest, (4,4))\n",
    "\n",
    "ax=plt.subplot(121)\n",
    "plt.subplots_adjust(hspace=0.4, wspace=0.4)\n",
    "plt.pcolor(np.flipud(mspike), cmap='Greys', vmin=-.1, vmax=1)\n",
    "plt.axis('off')\n",
    "plt.axis('equal')\n",
    "plt.title('mspike')\n",
    "\n",
    "ax=plt.subplot(122)\n",
    "plt.pcolor(np.flipud(mest), cmap='Greys', vmin=-.1, vmax=1)\n",
    "plt.axis('off')\n",
    "plt.axis('equal')\n",
    "plt.title('mest')\n",
    "plt.show()\n"
   ]
  },
  {
   "cell_type": "code",
   "execution_count": null,
   "metadata": {},
   "outputs": [],
   "source": []
  },
  {
   "cell_type": "code",
   "execution_count": null,
   "metadata": {},
   "outputs": [],
   "source": []
  }
 ],
 "metadata": {
  "kernelspec": {
   "display_name": "Python 3",
   "language": "python",
   "name": "python3"
  },
  "language_info": {
   "codemirror_mode": {
    "name": "ipython",
    "version": 3
   },
   "file_extension": ".py",
   "mimetype": "text/x-python",
   "name": "python",
   "nbconvert_exporter": "python",
   "pygments_lexer": "ipython3",
   "version": "3.6.5"
  }
 },
 "nbformat": 4,
 "nbformat_minor": 2
}
