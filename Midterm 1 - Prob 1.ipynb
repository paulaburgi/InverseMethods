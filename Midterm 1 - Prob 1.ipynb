{
 "cells": [
  {
   "cell_type": "code",
   "execution_count": 3,
   "metadata": {},
   "outputs": [],
   "source": [
    "%matplotlib inline"
   ]
  },
  {
   "cell_type": "code",
   "execution_count": 4,
   "metadata": {},
   "outputs": [],
   "source": [
    "import numpy as np\n",
    "import matplotlib.pyplot as plt\n",
    "import matplotlib.image as mpimg\n",
    "from scipy import ndimage, misc\n",
    "from scipy.linalg import toeplitz\n",
    "np.set_printoptions(threshold=np.inf)\n",
    "np.set_printoptions(precision=3)\n",
    "np.set_printoptions(suppress=True)"
   ]
  },
  {
   "cell_type": "code",
   "execution_count": 33,
   "metadata": {},
   "outputs": [],
   "source": [
    "t0 = -5\n",
    "tn = 99.5\n",
    "ts = 12.0\n",
    "n  = int(2*(tn-t0)+1)\n",
    "t = np.linspace(-5,99.5,n)\n",
    "\n"
   ]
  },
  {
   "cell_type": "code",
   "execution_count": 38,
   "metadata": {},
   "outputs": [
    {
     "data": {
      "image/png": "[encoded data removed]",
      "text/plain": [
       "<Figure size 432x288 with 1 Axes>"
      ]
     },
     "metadata": {},
     "output_type": "display_data"
    }
   ],
   "source": [
    "idx = int(np.argwhere(t==ts))\n",
    "\n",
    "g0 = 5\n",
    "g = np.zeros(n)\n",
    "for i in range(n):\n",
    "    if i >= idx:\n",
    "        ti = t[i]\n",
    "        g[i] = g0*ti*np.exp(ti/t0)\n",
    "                \n",
    "ax=plt.subplot(111)\n",
    "plt.tick_params(axis=\"True\", which=\"both\", bottom=\"True\", top=\"False\", \n",
    "               labelbottom=\"True\", left=\"True\", right=\"False\", labelleft=\"True\")\n",
    "plt.plot(t,g)\n",
    "ax.set_xlabel(\"time (s)\")\n",
    "ax.set_ylabel(\"g\")\n",
    "plt.title('impulse response function')\n",
    "plt.show()"
   ]
  },
  {
   "cell_type": "code",
   "execution_count": null,
   "metadata": {},
   "outputs": [],
   "source": []
  }
 ],
 "metadata": {
  "kernelspec": {
   "display_name": "Python 3",
   "language": "python",
   "name": "python3"
  },
  "language_info": {
   "codemirror_mode": {
    "name": "ipython",
    "version": 3
   },
   "file_extension": ".py",
   "mimetype": "text/x-python",
   "name": "python",
   "nbconvert_exporter": "python",
   "pygments_lexer": "ipython3",
   "version": "3.6.5"
  }
 },
 "nbformat": 4,
 "nbformat_minor": 2
}
